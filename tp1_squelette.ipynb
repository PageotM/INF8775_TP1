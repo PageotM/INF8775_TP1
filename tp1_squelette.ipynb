{
 "cells": [
  {
   "cell_type": "markdown",
   "metadata": {},
   "source": [
    "# INF8775 – Analyse et conception d’algorithmes\n",
    "# TP1 – Hiver 2025"
   ]
  },
  {
   "cell_type": "markdown",
   "metadata": {},
   "source": [
    "Gilbert, Victor, 2143708\n",
    "\n",
    "PAGEOT, Maxime, 2146612"
   ]
  },
  {
   "cell_type": "markdown",
   "metadata": {},
   "source": [
    "Note finale: "
   ]
  },
  {
   "cell_type": "markdown",
   "metadata": {},
   "source": [
    "<u>**Date limite de remise :**</u>  11 Février 23h59 (Groupe B2), 18 Février 23h59 (Groupe B1)"
   ]
  },
  {
   "cell_type": "markdown",
   "metadata": {},
   "source": [
    "# Instructions"
   ]
  },
  {
   "cell_type": "markdown",
   "metadata": {},
   "source": [
    "## Rédaction et remise du rapport\n",
    "\n",
    "- Ce notebook constitue à la fois le sujet du TP, votre code et votre rapport. Il contient déjà du code pour faciliter vos mesures et l'affichage de vos résultats, ainsi qu'un squelette pour votre rapport.\n",
    "\n",
    "- Complétez directement le notebook, vous êtes libres de créer des nouvelles cellules de code ou de texte. \n",
    "\n",
    "- Les questions et tâches à effectuer sont généralement indiquées par un TODO, mais lisez attentivement car nous pourrions avoir oublié d'en indiquer certaines.\n",
    "\n",
    "- Des questions sont réutilisées d'un algorithme à l'autre (puisque l'on reproduit les expérimentations à des fins de comparaison). Veillez à suffisament développer les premières réponses afin de l'on comprenne bien votre raisonnement et pour montrer votre bonne compréhension. Vous pourrez être plus concis par la suite.\n",
    "\n",
    "- <u>**IMPORTANT**</u> Remettez le fichier du notebook sur Moodle avec le nom `MATRICULE1_MATRICULE2.ipynb`\n",
    "\n",
    "- Vous pouvez inclure du code trouvé sur Internet, mais vous devez en mentionner la source, sous peine d'être sanctionnés pour plagiat."
   ]
  },
  {
   "cell_type": "markdown",
   "metadata": {},
   "source": [
    "## Mise en situation\n",
    "\n",
    "Ce travail pratique se répartit sur deux séances de laboratoire et porte sur l’analyse théorique et hybride des algorithmes. Dans les capsules vidéo de la semaine 3, trois approches d’analyse de l’implantation d’un algorithme sont décrites. Vous les mettrez en pratique pour des algorithmes de résolution d’un problème connu."
   ]
  },
  {
   "cell_type": "markdown",
   "metadata": {},
   "source": [
    "## Description du problème\n",
    "\n",
    "On vous demande de résoudre le problème classique de trier une liste de nombres aléatoires.\n",
    "\n",
    "La taille de la liste `SIZE` ainsi que la grandeur maximale des nombres permis `MAX_NUMBER` changeront d'un échantillon à l'autre. Il est **important** de considérer les deux variables dans vos analyses. Par contre, si vous prouvez qu'une des variables n'affecte pas la complexité d'un algorithme, il n'est pas nécessaire de compléter le reste de l'analyse pour celle-ci.\n",
    "\n",
    "Porter une attention particulière à vos analyses, car c'est ce qui est le plus important dans ce travail. Assurez vous de respecter un certain formalisme, comme si vous rédigiez un rapport, et de bien expliquez tous vos résultats et graphiques. Une réponse sans explication ne rapportera pas tous les points."
   ]
  },
  {
   "cell_type": "markdown",
   "metadata": {},
   "source": [
    "## Algorithmes à implanter\n",
    "\n",
    "On vous demande de résoudre ce problème de 5 façons différentes :\n",
    "\n",
    "1. En utilisant un algorithme simple: `Insertion Sort` ;\n",
    "2. En utilisant un algorithme diviser pour régner: `Quick Sort` en utilisant un pivot simple ;\n",
    "3. En utilisant l'algorithme précédent avec une certaine heuristique pour sélectionner le pivot ;\n",
    "4. En utilisant l'algorithme précédent avec un seuil de récursivité non élémentaire ;\n",
    "5. En utilisant un algorithme non comparatif: `Count Sort`.\n",
    "\n",
    "Pour l'algorithme 2, nous considérons simple de sélectionner la valeur au centre de la liste comme le pivot. Pour l'algo 3, vous pourriez utiliser la médiane ou la pseudo médiane de l'ensemble de la liste ou d'un sous-ensemble comme étant le pivot, mais il y a d'autre possibilités.\n",
    "\n",
    "Pour l’algorithme 4, vous devrez déterminer un seuil de récursivité expérimentalement. Les exemplaires dont la taille est inférieure à ce seuil ne sont plus résolus récursivement mais plutôt directement avec l’algorithme 1."
   ]
  },
  {
   "cell_type": "markdown",
   "metadata": {},
   "source": [
    "\n",
    "## Jeu de données\n",
    "\n",
    "La classe `Problem` existe pour simplifier l'interface des différentes fonctions utilitaires. Elle permet de générer des jeux de données avec la méthode `generate_sample` ci-dessous. Elle génère une liste de taille `SIZE` contenant des nombres entre 1 et `MAX_NUMBER`. Vous pouvez utilisez des listes aléatoires pour tester votre code."
   ]
  },
  {
   "cell_type": "code",
   "execution_count": 88,
   "metadata": {},
   "outputs": [],
   "source": [
    "import random\n",
    "from collections.abc import Iterable\n",
    "\n",
    "class Problem():\n",
    "    def __init__(self, size: int, max_number: int, num_samples: int = 5) -> None:\n",
    "        self.size=size\n",
    "        self.max_number=max_number\n",
    "        self.num_samples=num_samples\n",
    "        self.samples = self.generate_dataset()\n",
    "    \n",
    "    def generate_sample(self) -> list[int]:\n",
    "        \"\"\"Returns a list of the given size containing numbers between 1 and the max_number\"\"\"\n",
    "        return [random.randint(1, self.max_number) for _ in range(self.size)]\n",
    "    \n",
    "    def generate_dataset(self) -> Iterable[list[int]]:\n",
    "        \"\"\"Returns an iterator over as many samples as are described \"\"\"\n",
    "        return (self.generate_sample() for _ in range(self.num_samples))"
   ]
  },
  {
   "cell_type": "markdown",
   "metadata": {},
   "source": [
    "# Implantations et expérimentations"
   ]
  },
  {
   "cell_type": "markdown",
   "metadata": {},
   "source": [
    "Ces fonctions auxiliaires vous sont fournies pour vérifier l'exactitude des vos algorithmes, mesurer leur performance et afficher vos résultats.\n",
    "\n",
    "Il est recommandé de prendre le temps de lire et comprendre le code.\n",
    "\n",
    "Exécutez la cellule ci-dessous pour pouvoir utiliser les fonctions auxiliaires."
   ]
  },
  {
   "cell_type": "code",
   "execution_count": 89,
   "metadata": {},
   "outputs": [],
   "source": [
    "import matplotlib.pyplot as plt\n",
    "import time\n",
    "from collections.abc import Callable\n",
    "from math import log10\n",
    "from scipy.stats import linregress\n",
    "\n",
    "class InvalidSolution(Exception):\n",
    "    def __init__(self):\n",
    "        super().__init__(\"Invalid solution, verify your code.\")\n",
    "\n",
    "class Measure():\n",
    "    \"\"\"A wrapper to contain information on taken measures\"\"\"\n",
    "    def __init__(self, size: int, max_number: int, mean: int) -> None:\n",
    "        self.size = size\n",
    "        self.max_number = max_number\n",
    "        self.mean = mean\n",
    "\n",
    "def convert_list_to_dict(original: list[int]) -> dict[int:int]:\n",
    "    \"\"\"Converts a list into a dictionary of frequencies\"\"\"\n",
    "    freq: dict[int:int] = dict()\n",
    "    for iter in original:\n",
    "        if iter not in freq.keys():\n",
    "            freq[iter] = 0\n",
    "        freq[iter] += 1\n",
    "    return freq\n",
    "\n",
    "def is_valid_solution(original: list[int], solution: list[int]) -> bool:\n",
    "    \"\"\"Validates both if the solution is sorted and if the list was not modified\"\"\"\n",
    "    # Lists must be of equal length\n",
    "    if len(solution) != len(original):\n",
    "        return False\n",
    "    \n",
    "    # List must be in increasing order\n",
    "    for i in range(1, len(solution)):\n",
    "        if solution[i-1] > solution[i]:\n",
    "            return False\n",
    "    \n",
    "    original_freq = convert_list_to_dict(original)\n",
    "    solution_freq = convert_list_to_dict(solution)\n",
    "    # Lists must have the same values\n",
    "    for key in original_freq.keys():\n",
    "        if key not in solution_freq.keys() or\\\n",
    "            solution_freq[key] != original_freq[key]:\n",
    "            return False\n",
    "    \n",
    "    # Solution is valid\n",
    "    return True\n",
    "\n",
    "def make_problems(sizes: list[int], max_numbers: list[int], num_samples: int = 5) -> list[Problem]:\n",
    "    \"\"\"Creates problem instances using given sizes and max_numbers\"\"\"\n",
    "    problems: list[Problem] = []\n",
    "    for size in sizes:\n",
    "        for max_number in max_numbers:\n",
    "            problems.append(Problem(size,max_number,num_samples))\n",
    "    return problems\n",
    "\n",
    "def measure(procedure: Callable[[list[int]],list[int]], sample: list[int], time_scale: int = 1000) -> int:\n",
    "    \"\"\"Returns the time in milliseconds taken to run the procedure.\n",
    "\n",
    "    Raises:\n",
    "        InvalidSolution: If the procedure returns an invalid solution, raises an exception.\n",
    "    \"\"\"\n",
    "    start: int = time.time() * time_scale\n",
    "    solution: list[int] = procedure(sample)\n",
    "    end: int = time.time() * time_scale\n",
    "    if not is_valid_solution(sample, solution):\n",
    "        raise InvalidSolution()\n",
    "    return round(end - start)\n",
    "\n",
    "def measure_mean(procedure: Callable[[list[int]],list[int]], prob: Problem, time_scale: int = 1000) -> Measure:\n",
    "    \"\"\"Generates multiple samples with the specified parameters and returns the mean time in milliseconds\n",
    "\n",
    "    Raises:\n",
    "        InvalidSolution: If one of the samples results in an invalid solution.\n",
    "    \"\"\"\n",
    "    mean_time = sum(\n",
    "        [measure(procedure,sample,time_scale) for sample in prob.samples]\n",
    "    ) / prob.num_samples\n",
    "    return Measure(prob.size, prob.max_number, mean_time)\n",
    "\n",
    "def measure_range(procedure: Callable[[list[int]],list[int]], problems: list[Problem], time_scale: int = 1000) -> list[Measure]:\n",
    "    \"\"\"Measures the mean time taken in milliseconds for each size in the given list.\n",
    "    Uses a fixed max_number to measure the effect of size on its own.\n",
    "\n",
    "    Raises:\n",
    "        InvalidSolution: If one of the samples results in an invalid solution.\n",
    "    \n",
    "    Returns:\n",
    "        A list of Measure instances containing the specifications\n",
    "        of the problem as well as the mean time.\n",
    "    \"\"\"\n",
    "    return [\n",
    "        measure_mean(procedure, prob, time_scale)\n",
    "        for prob in problems\n",
    "    ]\n",
    "\n",
    "def test_threshold(\n",
    "    procedure: Callable[[list[int],int],list[int]],\n",
    "    thresholds: list[int], problem: Problem\n",
    ") -> dict[int,int]:\n",
    "    \"\"\"Tests the different thresholds on the same problem instance.\"\"\"\n",
    "    threshold_measures = dict()\n",
    "    for threshold in thresholds:\n",
    "        threshold_measures[threshold] = 0\n",
    "        for sample in problem.generate_dataset():\n",
    "            start = time.time() * 1000\n",
    "            solution = procedure(sample,threshold)\n",
    "            end = time.time() * 1000\n",
    "            if not is_valid_solution(sample,solution):\n",
    "                raise InvalidSolution()\n",
    "            threshold_measures[threshold] += end - start\n",
    "        threshold_measures[threshold] /= problem.num_samples\n",
    "    return threshold_measures\n",
    "\n",
    "def estimate_threshold(\n",
    "    first_data: dict[int,int],\n",
    "    second_data: dict[int,int],\n",
    "    first_label: str,\n",
    "    second_label: str\n",
    "):\n",
    "    plt.plot(list(first_data.keys()),list(first_data.values()),label=first_label)\n",
    "    plt.plot(list(second_data.keys()),list(second_data.values()),label=second_label)\n",
    "    plt.xlabel('Taille')\n",
    "    plt.ylabel('Temps (ms)')\n",
    "    plt.title('Estimation du seuil')\n",
    "    plt.show()\n",
    "\n",
    "def display_threshold_measures(data: dict[int,int]):\n",
    "    \"\"\"Displays a graph of the time take to solve in regards to the chosen threshold\"\"\"\n",
    "    x = list(data.keys())\n",
    "    y = list(data.values())\n",
    "    plt.plot(x, y, label='Mesures')\n",
    "    plt.scatter(x, y, label='Mesures')\n",
    "\n",
    "    # Add labels and title\n",
    "    plt.xlabel('Seuil')\n",
    "    plt.ylabel('Temps (ms)')\n",
    "    plt.title('Selection du seuil')\n",
    "    plt.show()\n",
    "     \n",
    "def display_data_as_table(measures: list[Measure]):\n",
    "    \"\"\"Prints a table with the data in the given list of measures\"\"\"\n",
    "    print(\"{: <12} {: <12} {: <12}\".format(\"Taille\", \"Nombre maximal\", \"Temps moyen (ms)\"))\n",
    "    for measure in measures:\n",
    "        print(\"{: <12} {: <12} {: <12}\".format(measure.size, measure.max_number, measure.mean))\n",
    "\n",
    "### The different tests are below, the names are in french to avoid confusion\n",
    "\n",
    "def test_de_puissance(\n",
    "    data: dict[int,int],\n",
    "    x_label: str,\n",
    "    y_label: str,\n",
    "    title: str = \"Test de puissance\"\n",
    "):\n",
    "    \"\"\"Takes the data and displays it into the corresponding test graph.\n",
    "    It applies no transformations to the data.\n",
    "\n",
    "    Args:\n",
    "        data (dict[int,int]): A dictionnary mapping the x variable to the y variable\n",
    "    \"\"\"\n",
    "    # Log both sets of values\n",
    "    x = list(data.keys())\n",
    "    y = list(data.values())\n",
    "    \n",
    "    # Perform the lin regression\n",
    "    m, b, rvalue, _, _ = linregress(x, y)\n",
    "    \n",
    "    # Estimate the values of y based on the lin regression results\n",
    "    predicted = [m * iter + b for iter in x]\n",
    "\n",
    "    # Create the line equation\n",
    "    line_eq = f\"y = {m:.2f}x + {b:.2f}\"\n",
    "\n",
    "    # Plot the points\n",
    "    plt.scatter(x, y, label='Mesures')\n",
    "\n",
    "    # Plot the regression line\n",
    "    plt.plot(x, predicted, color=\"red\", label=f'Regression linéaire R²={round(rvalue**2,6)}')\n",
    "    \n",
    "    # Add labels and title\n",
    "    plt.xlabel(x_label)\n",
    "    plt.ylabel(y_label)\n",
    "    plt.title(title)\n",
    "\n",
    "    # Add legend\n",
    "    plt.legend(bbox_to_anchor=(0.60, 0), loc='lower left')\n",
    "\n",
    "    # Display the line equation\n",
    "    plt.text(min(x), max(y), line_eq)\n",
    "\n",
    "    # Show the plot\n",
    "    plt.show()\n",
    "\n",
    "def test_de_rapport(\n",
    "    data: dict[int,int],\n",
    "    x_label: str,\n",
    "    y_label: str,\n",
    "    title: str = \"Test de rapport\"\n",
    "):\n",
    "    \"\"\"Takes the data and displays it into the corresponding test graph.\n",
    "    It applies no transformations to the data.\n",
    "\n",
    "    Args:\n",
    "        data (dict[int,int]): A dictionnary mapping the x variable to the y variable\n",
    "    \"\"\"\n",
    "    x = list(data.keys())\n",
    "    y = list(data.values())\n",
    "\n",
    "    plt.plot(x, y, label='Mesures')\n",
    "    plt.scatter(x, y, label='Mesures')\n",
    "\n",
    "    # Add labels and title\n",
    "    plt.xlabel(x_label)\n",
    "    plt.ylabel(y_label)\n",
    "    plt.title(title)\n",
    "    plt.show()\n",
    "\n",
    "def test_de_constantes(\n",
    "    data: dict[int,int],\n",
    "    x_label: str,\n",
    "    y_label: str = \"Temps (ms)\",\n",
    "    title: str = \"Test de constantes\"\n",
    "):\n",
    "    \"\"\"Takes the data and displays it into the corresponding test graph.\n",
    "    It applies no transformations to the data.\n",
    "\n",
    "    Args:\n",
    "        data (dict[int,int]): A dictionnary mapping the x variable to the y variable\n",
    "    \"\"\"\n",
    "    x = list(data.keys())\n",
    "    y = list(data.values())\n",
    "\n",
    "    # Perform linear regression\n",
    "    m, b, rvalue, _, _ = linregress(x, y)\n",
    "\n",
    "    predicted = [m * iter + b for iter in x]\n",
    "\n",
    "    # Create the line equation\n",
    "    line_eq = f\"y = {m:.2E}x + {b:.2E}\"\n",
    "\n",
    "    # Plot the points\n",
    "    plt.scatter(x, y, label='Mesures')\n",
    "\n",
    "    # Plot the regression line\n",
    "    plt.plot(x, predicted, color=\"red\", label=f'Regression linéaire R²={round(rvalue**2,6)}')\n",
    " \n",
    "    # Add labels and title\n",
    "    plt.xlabel(x_label)\n",
    "    plt.ylabel(y_label)\n",
    "    plt.title(title)\n",
    "\n",
    "    # Add legend\n",
    "    plt.legend(bbox_to_anchor=(0.60, 0), loc='lower left')\n",
    "\n",
    "    # Display the line equation\n",
    "    plt.text(min(x), max(y), line_eq)\n",
    "\n",
    "    # Show the plot\n",
    "    plt.show()"
   ]
  },
  {
   "cell_type": "markdown",
   "metadata": {},
   "source": [
    "## Exemple : Bubble Sort"
   ]
  },
  {
   "cell_type": "code",
   "execution_count": 90,
   "metadata": {},
   "outputs": [
    {
     "name": "stdout",
     "output_type": "stream",
     "text": [
      "Taille       Nombre maximal Temps moyen (ms)\n",
      "1000         4000         125.8       \n",
      "1500         4000         286.4       \n",
      "2000         4000         505.0       \n",
      "Taille       Nombre maximal Temps moyen (ms)\n",
      "2000         2000         506.2       \n",
      "2000         3000         501.8       \n",
      "2000         4000         502.6       \n"
     ]
    }
   ],
   "source": [
    "def bubble_sort(original: list[int]) -> list[int]:\n",
    "    for i in range(len(original)):\n",
    "        for j in range(0, len(original)-i-1):\n",
    "            if original[j] > original[j+1]:\n",
    "                original[j], original[j+1] = original[j+1], original[j]\n",
    "    return original\n",
    "\n",
    "# This test would allow to see the variation associated to the SIZE variable\n",
    "measures = measure_range(bubble_sort, make_problems([1000,1500,2000],[4000]))\n",
    "display_data_as_table(measures)\n",
    "\n",
    "# This test would allow to see the variation associated to the MAX_NUMBER variable. Results show that there is no variation\n",
    "measures = measure_range(bubble_sort, make_problems([2000],[2000,3000,4000]))\n",
    "display_data_as_table(measures)"
   ]
  },
  {
   "cell_type": "markdown",
   "metadata": {},
   "source": [
    "## Partie 1 : Algorithme simple (Insertion Sort) (5 pts)"
   ]
  },
  {
   "cell_type": "markdown",
   "metadata": {},
   "source": [
    "### Implantation"
   ]
  },
  {
   "cell_type": "markdown",
   "metadata": {},
   "source": [
    "<u>**Question 1.a):**</u> Implantez l'algorithme de tri insertion sort.\n",
    "\n",
    "Utilisez la fonction `is_valid_solution` pour valider votre réponse sur quelques exemplaires aléatoires."
   ]
  },
  {
   "cell_type": "code",
   "execution_count": 91,
   "metadata": {},
   "outputs": [
    {
     "name": "stdout",
     "output_type": "stream",
     "text": [
      "ca marche frca fonctionne :)\n"
     ]
    }
   ],
   "source": [
    "def insertion_sort(original: list[int]) -> list[int]:\n",
    "    # TODO\n",
    "    copyOfOriginal = list(original);\n",
    "    sortedList = []\n",
    "    for num in copyOfOriginal:\n",
    "        i = 0\n",
    "        if sortedList.__len__() == 0:\n",
    "            sortedList.append(num)\n",
    "        else:\n",
    "            for sortedItem in sortedList:\n",
    "                if num <= sortedItem :\n",
    "                    sortedList.insert(i,num)\n",
    "                    break\n",
    "                elif  i == sortedList.__len__()-1:\n",
    "                    sortedList.append(num)\n",
    "                    break\n",
    "                i+=1\n",
    "    return sortedList\n",
    "\n",
    "testList = [4,2,5,7,5,8,9,10000,-23]\n",
    "\n",
    "if is_valid_solution(testList,insertion_sort(testList)):\n",
    "    print(\"ca marche frca fonctionne :)\")\n",
    "else:\n",
    "    print(\"ca fonctionne pas :(\")\n"
   ]
  },
  {
   "cell_type": "markdown",
   "metadata": {},
   "source": [
    "<u>**Question 1.b):**</u> Quelle est la complexité asymptotique théorique de cet algorithme? Expliquez <br>\n",
    "Cet algorithme a une complexité moyenne de O(n**2), pour chaque item de la liste on itère sur la liste des items déja triés, proportionel a n: n * n = n^2"
   ]
  },
  {
   "cell_type": "markdown",
   "metadata": {},
   "source": [
    "### Mesures"
   ]
  },
  {
   "cell_type": "markdown",
   "metadata": {},
   "source": [
    "Pour cet algorithme ainsi que les prochains, vous devez choisir les différentes tailles de liste que vous voulez tester. Choisissez des tailles qui ont des résultats intéressants, une taille de 5 qui se termine en une fraction de millisecondes n'est pas le meilleur résultat pour faire des comparaisons.\n",
    "\n",
    "Pour faire des mesures, utilisez la fonction `measure_range`. Elle permet de faire des mesures sur une liste de problèmes. Vous pouvez facilement créer des problèmes en utilisant la fonction `make_problems`. Ne faites varier que la taille <u>**OU**</u> la grandeur maximale des nombres pour observer le comportement d'un des deux paramètres. Le code fournit s'occupera de générer des échantillons aléatoires, de calculer le temps moyen et de vous retourner une liste de mesures. Vous pouvez utilisez la fonction `range` de python pour obtenir une grande liste et avoir plusieurs points (faites attention au temps d'exécution).\n",
    "\n",
    "Ces données peuvent ensuite être passées aux fonctions `test_de_...` en les mettant dans un `dict` python tel que `x:y`. Les tests ont de la documentation pour expliquer leur utilisation en plus de détails."
   ]
  },
  {
   "cell_type": "markdown",
   "metadata": {},
   "source": [
    "<u>**Question 1.c):**</u> Faites afficher vos mesures dans un tableau avec la fonction `display_data_as_table`."
   ]
  },
  {
   "cell_type": "code",
   "execution_count": 92,
   "metadata": {},
   "outputs": [
    {
     "name": "stdout",
     "output_type": "stream",
     "text": [
      "Taille       Nombre maximal Temps moyen (ms)\n",
      "1000         4000         84.4        \n",
      "1500         4000         182.2       \n",
      "2000         4000         322.6       \n"
     ]
    }
   ],
   "source": [
    "# TODO take measurements\n",
    "# This test would allow to see the variation associated to the SIZE variable\n",
    "measures = measure_range(insertion_sort, make_problems([1000,1500,2000],[4000]))\n",
    "display_data_as_table(measures)\n",
    "\n"
   ]
  },
  {
   "cell_type": "code",
   "execution_count": 93,
   "metadata": {},
   "outputs": [
    {
     "name": "stdout",
     "output_type": "stream",
     "text": [
      "Taille       Nombre maximal Temps moyen (ms)\n",
      "2000         2000         327.4       \n",
      "2000         3000         343.6       \n",
      "2000         4000         406.2       \n"
     ]
    }
   ],
   "source": [
    "# TODO Display data as tables\n",
    "# This test would allow to see the variation associated to the MAX_NUMBER variable. Results show that there is no variation\n",
    "measures = measure_range(insertion_sort, make_problems([2000],[2000,3000,4000]))\n",
    "display_data_as_table(measures)"
   ]
  },
  {
   "cell_type": "markdown",
   "metadata": {},
   "source": [
    "### Analyse Hybride"
   ]
  },
  {
   "cell_type": "markdown",
   "metadata": {},
   "source": [
    "#### Test de puissance"
   ]
  },
  {
   "cell_type": "markdown",
   "metadata": {},
   "source": [
    "<u>**Question 2.a):**</u> Effectuez le test de puissance de votre algorithme."
   ]
  },
  {
   "cell_type": "code",
   "execution_count": 101,
   "metadata": {},
   "outputs": [
    {
     "data": {
      "image/png": "[encoded data removed]",
      "text/plain": [
       "<Figure size 640x480 with 1 Axes>"
      ]
     },
     "metadata": {},
     "output_type": "display_data"
    }
   ],
   "source": [
    "# TODO Test de puissance\n",
    "import math\n",
    "measures = measure_range(insertion_sort, make_problems(range(10,2100,100),[4000]),1000)\n",
    "measuresAsDict = {math.log(measure.size): math.log(measure.mean) for measure in measures}\n",
    "test_de_puissance(measuresAsDict, \"taille de la liste\",\"temps de traitement\")"
   ]
  },
  {
   "cell_type": "markdown",
   "metadata": {},
   "source": [
    "<u>**Question 2.b):**</u> Analysez le graphe obtenu pour le test de puissance."
   ]
  },
  {
   "cell_type": "markdown",
   "metadata": {},
   "source": [
    "#### Test de rapport"
   ]
  },
  {
   "cell_type": "markdown",
   "metadata": {},
   "source": [
    "<u>**Question 3.a):**</u> Effectuez le test de rapport de votre algorithme."
   ]
  },
  {
   "cell_type": "code",
   "execution_count": 132,
   "metadata": {},
   "outputs": [
    {
     "name": "stdout",
     "output_type": "stream",
     "text": [
      "[0.002, 9.917355371900826e-05, 9.523809523809524e-05, 9.157127991675339e-05, 0.00011183819155264723, 8.304498269896194e-05, 7.686105885514647e-05, 8.212656219004165e-05, 7.864654778235025e-05, 7.945900253592561e-05, 8.018821684148613e-05, 8.197386575764954e-05, 7.963936889556724e-05, 7.924946098712197e-05, 8.259141894270912e-05, 8.473312574009911e-05, 7.900929748080707e-05, 8.474402380219555e-05, 8.156039192942828e-05, 8.349551821496122e-05]\n"
     ]
    },
    {
     "data": {
      "image/png": "[encoded data removed]",
      "text/plain": [
       "<Figure size 640x480 with 1 Axes>"
      ]
     },
     "metadata": {},
     "output_type": "display_data"
    }
   ],
   "source": [
    "# TODO Test de rapport\n",
    "measuresAsDict = {measure.size: measure.mean/math.pow(measure.size,2) for measure in measures}\n",
    "print([measure.mean/math.pow(measure.size,2) for measure in measures])\n",
    "\n",
    "test_de_rapport(measuresAsDict, \"taille de la liste\",\"temps de traitement\")"
   ]
  },
  {
   "cell_type": "markdown",
   "metadata": {},
   "source": [
    "<u>**Question 3.b):**</u> Analysez le graphe obtenu pour le test de rapport.\n",
    "La fonction converge immédiatement sur une valeur supérieur a, approximativement 0.8 e-05"
   ]
  },
  {
   "cell_type": "markdown",
   "metadata": {},
   "source": [
    "#### Test des constantes"
   ]
  },
  {
   "cell_type": "markdown",
   "metadata": {},
   "source": [
    "<u>**Question 4.a):**</u> Effectuez le test des constantes de votre algorithme."
   ]
  },
  {
   "cell_type": "code",
   "execution_count": 133,
   "metadata": {},
   "outputs": [],
   "source": [
    "# TODO Test des constantes"
   ]
  },
  {
   "cell_type": "markdown",
   "metadata": {},
   "source": [
    "<u>**Question 4.b):**</u> Analysez le graphe obtenu pour le test des constantes."
   ]
  },
  {
   "cell_type": "markdown",
   "metadata": {},
   "source": [
    "## Partie 2 : Algorithme diviser pour régner (Quick Sort) (5 pts)"
   ]
  },
  {
   "cell_type": "markdown",
   "metadata": {},
   "source": [
    "### Implantation"
   ]
  },
  {
   "cell_type": "markdown",
   "metadata": {},
   "source": [
    "<u>**Question 1.a):**</u> Implantez l'algorithme de tri quick sort avec un pivot simple.\n",
    "\n",
    "Utilisez la fonction `is_valid_solution` pour valider votre réponse sur quelques exemplaires aléatoires."
   ]
  },
  {
   "cell_type": "code",
   "execution_count": 134,
   "metadata": {},
   "outputs": [],
   "source": [
    "def quick_sort(original: list[int]) -> list[int]:\n",
    "    # TODO\n",
    "    return original"
   ]
  },
  {
   "cell_type": "markdown",
   "metadata": {},
   "source": [
    "<u>**Question 1.b):**</u> Quelle est la complexité asymptotique théorique de cet algorithme? Expliquez"
   ]
  },
  {
   "cell_type": "markdown",
   "metadata": {},
   "source": [
    "### Mesures"
   ]
  },
  {
   "cell_type": "markdown",
   "metadata": {},
   "source": [
    "<u>**Question 1.c):**</u> Faites afficher vos mesures dans un tableau avec la fonction `display_data_as_table`."
   ]
  },
  {
   "cell_type": "code",
   "execution_count": 135,
   "metadata": {},
   "outputs": [],
   "source": [
    "# TODO take measurements"
   ]
  },
  {
   "cell_type": "code",
   "execution_count": 136,
   "metadata": {},
   "outputs": [],
   "source": [
    "# TODO Display data as tables"
   ]
  },
  {
   "cell_type": "markdown",
   "metadata": {},
   "source": [
    "### Analyse Hybride"
   ]
  },
  {
   "cell_type": "markdown",
   "metadata": {},
   "source": [
    "#### Test de puissance"
   ]
  },
  {
   "cell_type": "markdown",
   "metadata": {},
   "source": [
    "<u>**Question 2.a):**</u> Effectuez le test de puissance de votre algorithme."
   ]
  },
  {
   "cell_type": "code",
   "execution_count": 137,
   "metadata": {},
   "outputs": [],
   "source": [
    "# TODO Test de puissance"
   ]
  },
  {
   "cell_type": "markdown",
   "metadata": {},
   "source": [
    "<u>**Question 2.b):**</u> Analysez le graphe obtenu pour le test de puissance."
   ]
  },
  {
   "cell_type": "markdown",
   "metadata": {},
   "source": [
    "#### Test de rapport"
   ]
  },
  {
   "cell_type": "markdown",
   "metadata": {},
   "source": [
    "<u>**Question 3.a):**</u> Effectuez le test de rapport de votre algorithme."
   ]
  },
  {
   "cell_type": "code",
   "execution_count": 138,
   "metadata": {},
   "outputs": [],
   "source": [
    "# TODO Test de rapport"
   ]
  },
  {
   "cell_type": "markdown",
   "metadata": {},
   "source": [
    "<u>**Question 3.b):**</u> Analysez le graphe obtenu pour le test de rapport."
   ]
  },
  {
   "cell_type": "markdown",
   "metadata": {},
   "source": [
    "#### Test des constantes"
   ]
  },
  {
   "cell_type": "markdown",
   "metadata": {},
   "source": [
    "<u>**Question 4.a):**</u> Effectuez le test des constantes de votre algorithme."
   ]
  },
  {
   "cell_type": "code",
   "execution_count": 139,
   "metadata": {},
   "outputs": [],
   "source": [
    "# TODO Test des constantes"
   ]
  },
  {
   "cell_type": "markdown",
   "metadata": {},
   "source": [
    "<u>**Question 4.b):**</u> Analysez le graphe obtenu pour le test des constantes."
   ]
  },
  {
   "cell_type": "markdown",
   "metadata": {},
   "source": [
    "## Partie 3 : Algorithme diviser pour régner amélioré (Quick Sort) (5 pts)"
   ]
  },
  {
   "cell_type": "markdown",
   "metadata": {},
   "source": [
    "### Implantation"
   ]
  },
  {
   "cell_type": "markdown",
   "metadata": {},
   "source": [
    "<u>**Question 1.a):**</u> Implantez l'algorithme de tri quick sort, avec une certaine heuristique pour sélectionner un pivot pertinent.\n",
    "\n",
    "Utilisez la fonction `is_valid_solution` pour valider votre réponse sur quelques exemplaires aléatoires."
   ]
  },
  {
   "cell_type": "code",
   "execution_count": 140,
   "metadata": {},
   "outputs": [],
   "source": [
    "def quick_sort_improved(original: list[int]) -> list[int]:\n",
    "    # TODO\n",
    "    return original"
   ]
  },
  {
   "cell_type": "markdown",
   "metadata": {},
   "source": [
    "<u>**Question 1.b):**</u> Quelle est la complexité asymptotique théorique de cet algorithme? Expliquez"
   ]
  },
  {
   "cell_type": "markdown",
   "metadata": {},
   "source": [
    "<u>**Question 1.c):**</u> Quelle est l'impact de l'ajout de votre heuristique? Expliquez"
   ]
  },
  {
   "cell_type": "markdown",
   "metadata": {},
   "source": [
    "### Mesures"
   ]
  },
  {
   "cell_type": "markdown",
   "metadata": {},
   "source": [
    "<u>**Question 1.d):**</u> Faites afficher vos mesures dans un tableau avec la fonction `display_data_as_table`."
   ]
  },
  {
   "cell_type": "code",
   "execution_count": 141,
   "metadata": {},
   "outputs": [],
   "source": [
    "# TODO take measurements"
   ]
  },
  {
   "cell_type": "code",
   "execution_count": 142,
   "metadata": {},
   "outputs": [],
   "source": [
    "# TODO Display data as tables"
   ]
  },
  {
   "cell_type": "markdown",
   "metadata": {},
   "source": [
    "### Analyse Hybride"
   ]
  },
  {
   "cell_type": "markdown",
   "metadata": {},
   "source": [
    "#### Test de puissance"
   ]
  },
  {
   "cell_type": "markdown",
   "metadata": {},
   "source": [
    "<u>**Question 2.a):**</u> Effectuez le test de puissance de votre algorithme."
   ]
  },
  {
   "cell_type": "code",
   "execution_count": 143,
   "metadata": {},
   "outputs": [],
   "source": [
    "# TODO Test de puissance"
   ]
  },
  {
   "cell_type": "markdown",
   "metadata": {},
   "source": [
    "<u>**Question 2.b):**</u> Analysez le graphe obtenu pour le test de puissance."
   ]
  },
  {
   "cell_type": "markdown",
   "metadata": {},
   "source": [
    "#### Test de rapport"
   ]
  },
  {
   "cell_type": "markdown",
   "metadata": {},
   "source": [
    "<u>**Question 3.a):**</u> Effectuez le test de rapport de votre algorithme."
   ]
  },
  {
   "cell_type": "code",
   "execution_count": 144,
   "metadata": {},
   "outputs": [],
   "source": [
    "# TODO Test de rapport"
   ]
  },
  {
   "cell_type": "markdown",
   "metadata": {},
   "source": [
    "<u>**Question 3.b):**</u> Analysez le graphe obtenu pour le test de rapport."
   ]
  },
  {
   "cell_type": "markdown",
   "metadata": {},
   "source": [
    "#### Test des constantes"
   ]
  },
  {
   "cell_type": "markdown",
   "metadata": {},
   "source": [
    "<u>**Question 4.a):**</u> Effectuez le test des constantes de votre algorithme."
   ]
  },
  {
   "cell_type": "code",
   "execution_count": 145,
   "metadata": {},
   "outputs": [],
   "source": [
    "# TODO Test des constantes"
   ]
  },
  {
   "cell_type": "markdown",
   "metadata": {},
   "source": [
    "<u>**Question 4.b):**</u> Analysez le graphe obtenu pour le test des constantes."
   ]
  },
  {
   "cell_type": "markdown",
   "metadata": {},
   "source": [
    "## Partie 4 : Algorithme diviser pour régner avec seuil arbitraire (Quick Sort) (5 pts)"
   ]
  },
  {
   "cell_type": "markdown",
   "metadata": {},
   "source": [
    "### Implantation"
   ]
  },
  {
   "cell_type": "markdown",
   "metadata": {},
   "source": [
    "<u>**Question 1.a):**</u> Quel serait un meilleur choix de seuil? Utilisez la fonction `estimate_threshold` pour avoir une idée où commencer. Analysez le graphe résultant et choisissez un seuil de départ.\n",
    "\n",
    "On recommande de compiler des nouvelles données sur des tailles plus petites. Utilisez un `time_scale` plus grand pour avoir plus de détails (indiquez les unités dans le `y_label`). Une fois que vous avez une idée d'où se situe le point de croisement, vous pouvez refaire le test sur une sélection plus restreinte de tailles en augmentant `num_samples` pour avoir des résultats plus constants."
   ]
  },
  {
   "cell_type": "code",
   "execution_count": 146,
   "metadata": {},
   "outputs": [],
   "source": [
    "# TODO Find a better starting point for the threshold"
   ]
  },
  {
   "cell_type": "markdown",
   "metadata": {},
   "source": [
    "<u>**Question 1.b):**</u> Reprenez l'algorithme précédent et modifiez-le pour y ajouter un seuil de récursivité. En dessous de ce seuil, vous utiliserez l'algorithme `insertion_sort` écrit précédemment.\n",
    "\n",
    "Utilisez la fonction `is_valid_solution` pour valider votre réponse sur quelques exemplaires aléatoires."
   ]
  },
  {
   "cell_type": "code",
   "execution_count": 147,
   "metadata": {},
   "outputs": [],
   "source": [
    "def quick_sort_threshold(original: list[int], threshold: int = 1) -> list[int]:\n",
    "    # TODO\n",
    "    return original"
   ]
  },
  {
   "cell_type": "markdown",
   "metadata": {},
   "source": [
    "<u>**Question 1.c):**</u> À l'aide de ce que vous avez vu dans la section précédente, effectuez les mesures avec plusieurs seuils de récursivité pour déterminer le seuil le plus judicieux. Affichez les dans un graphique une fois que les mesures sont compilées. La fonction `test_threshold` vous sera utile pour faire ces tests. Choisissez bien vos seuils ainsi qu'une taille de liste permettant de bien observer la différence de performance."
   ]
  },
  {
   "cell_type": "code",
   "execution_count": 148,
   "metadata": {},
   "outputs": [],
   "source": [
    "# TODO Test different threshold values"
   ]
  },
  {
   "cell_type": "code",
   "execution_count": 149,
   "metadata": {},
   "outputs": [],
   "source": [
    "# TODO Display a graph with the measurements"
   ]
  },
  {
   "cell_type": "markdown",
   "metadata": {},
   "source": [
    "<u>**Question 1.d):**</u> Quel est le seuil de récursivité le plus judicieux? Sur quel critère l'avez vous sélectionné? Pourquoi des seuils inférieurs ou supérieurs donnent-ils de moins bonnes performances?\n",
    "\n",
    "Changez le seuil par défaut de votre fonction au meilleur choix. Ceci vous permettra d'utiliser les fonctions utilitaires sans passer le seuil comme argument."
   ]
  },
  {
   "cell_type": "markdown",
   "metadata": {},
   "source": [
    "<u>**Question 1.e):**</u> Quelle est la complexité asymptotique théorique de cet algorithme? Expliquez"
   ]
  },
  {
   "cell_type": "markdown",
   "metadata": {},
   "source": [
    "### Mesures"
   ]
  },
  {
   "cell_type": "markdown",
   "metadata": {},
   "source": [
    "<u>**Question 1.f):**</u> Faites afficher vos mesures dans un tableau avec la fonction `display_data_as_table`."
   ]
  },
  {
   "cell_type": "code",
   "execution_count": 150,
   "metadata": {},
   "outputs": [],
   "source": [
    "# TODO take measurements"
   ]
  },
  {
   "cell_type": "code",
   "execution_count": 151,
   "metadata": {},
   "outputs": [],
   "source": [
    "# TODO Display data as tables"
   ]
  },
  {
   "cell_type": "markdown",
   "metadata": {},
   "source": [
    "### Analyse Hybride"
   ]
  },
  {
   "cell_type": "markdown",
   "metadata": {},
   "source": [
    "#### Test de puissance"
   ]
  },
  {
   "cell_type": "markdown",
   "metadata": {},
   "source": [
    "<u>**Question 2.a):**</u> Effectuez le test de puissance de votre algorithme."
   ]
  },
  {
   "cell_type": "code",
   "execution_count": 152,
   "metadata": {},
   "outputs": [],
   "source": [
    "# TODO Test de puissance"
   ]
  },
  {
   "cell_type": "markdown",
   "metadata": {},
   "source": [
    "<u>**Question 2.b):**</u> Analysez le graphe obtenu pour le test de puissance."
   ]
  },
  {
   "cell_type": "markdown",
   "metadata": {},
   "source": [
    "#### Test de rapport"
   ]
  },
  {
   "cell_type": "markdown",
   "metadata": {},
   "source": [
    "<u>**Question 3.a):**</u> Effectuez le test de rapport de votre algorithme."
   ]
  },
  {
   "cell_type": "code",
   "execution_count": 153,
   "metadata": {},
   "outputs": [],
   "source": [
    "# TODO Test de rapport"
   ]
  },
  {
   "cell_type": "markdown",
   "metadata": {},
   "source": [
    "<u>**Question 3.b):**</u> Analysez le graphe obtenu pour le test de rapport."
   ]
  },
  {
   "cell_type": "markdown",
   "metadata": {},
   "source": [
    "#### Test des constantes"
   ]
  },
  {
   "cell_type": "markdown",
   "metadata": {},
   "source": [
    "<u>**Question 4.a):**</u> Effectuez le test des constantes de votre algorithme."
   ]
  },
  {
   "cell_type": "code",
   "execution_count": 154,
   "metadata": {},
   "outputs": [],
   "source": [
    "# TODO Test des constantes"
   ]
  },
  {
   "cell_type": "markdown",
   "metadata": {},
   "source": [
    "<u>**Question 4.b):**</u> Analysez le graphe obtenu pour le test des constantes."
   ]
  },
  {
   "cell_type": "markdown",
   "metadata": {},
   "source": [
    "<u>**Question 5):**</u> Commentez l'impact du seuil de récursivité. Que représente-t-il pour l'algorithme diviser pour régner et l'algorithme naïf ?"
   ]
  },
  {
   "cell_type": "markdown",
   "metadata": {},
   "source": [
    "## Partie 5 : Algorithme non comparatif (Count Sort) (5 pts)"
   ]
  },
  {
   "cell_type": "markdown",
   "metadata": {},
   "source": [
    "### Implantation"
   ]
  },
  {
   "cell_type": "markdown",
   "metadata": {},
   "source": [
    "<u>**Question 1.a):**</u> Implantez l'algorithme de tri count sort. Cet algorithme ne fait pas de comparaison entre les différents éléments de la liste.\n",
    "\n",
    "Utilisez la fonction `is_valid_solution` pour valider votre réponse sur quelques exemplaires aléatoires."
   ]
  },
  {
   "cell_type": "code",
   "execution_count": 155,
   "metadata": {},
   "outputs": [],
   "source": [
    "def count_sort(original: list[int]) -> list[int]:\n",
    "    # TODO\n",
    "    return original"
   ]
  },
  {
   "cell_type": "markdown",
   "metadata": {},
   "source": [
    "<u>**Question 1.b):**</u> Quelle est la complexité asymptotique théorique de cet algorithme? Expliquez"
   ]
  },
  {
   "cell_type": "markdown",
   "metadata": {},
   "source": [
    "<u>**Question 1.c):**</u> Quel sera l'effet de cette complexité comparativement aux algorithmes précédents."
   ]
  },
  {
   "cell_type": "markdown",
   "metadata": {},
   "source": [
    "### Mesures"
   ]
  },
  {
   "cell_type": "markdown",
   "metadata": {},
   "source": [
    "<u>**Question 1.d):**</u> Faites afficher vos mesures dans un tableau avec la fonction `display_data_as_table`. Étant donné les particularités de cet algorithme, il serait plus pertinent de tester des problèmes où max number ≤ size."
   ]
  },
  {
   "cell_type": "code",
   "execution_count": 156,
   "metadata": {},
   "outputs": [],
   "source": [
    "# TODO take measurements"
   ]
  },
  {
   "cell_type": "code",
   "execution_count": 157,
   "metadata": {},
   "outputs": [],
   "source": [
    "# TODO Display data as tables"
   ]
  },
  {
   "cell_type": "markdown",
   "metadata": {},
   "source": [
    "### Analyse Hybride"
   ]
  },
  {
   "cell_type": "markdown",
   "metadata": {},
   "source": [
    "#### Test de puissance"
   ]
  },
  {
   "cell_type": "markdown",
   "metadata": {},
   "source": [
    "<u>**Question 2.a):**</u> Effectuez le test de puissance de votre algorithme."
   ]
  },
  {
   "cell_type": "code",
   "execution_count": 158,
   "metadata": {},
   "outputs": [],
   "source": [
    "# TODO Test de puissance"
   ]
  },
  {
   "cell_type": "markdown",
   "metadata": {},
   "source": [
    "<u>**Question 2.b):**</u> Analysez le graphe obtenu pour le test de puissance."
   ]
  },
  {
   "cell_type": "markdown",
   "metadata": {},
   "source": [
    "#### Test de rapport"
   ]
  },
  {
   "cell_type": "markdown",
   "metadata": {},
   "source": [
    "<u>**Question 3.a):**</u> Effectuez le test de rapport de votre algorithme."
   ]
  },
  {
   "cell_type": "code",
   "execution_count": 159,
   "metadata": {},
   "outputs": [],
   "source": [
    "# TODO Test de rapport"
   ]
  },
  {
   "cell_type": "markdown",
   "metadata": {},
   "source": [
    "<u>**Question 3.b):**</u> Analysez le graphe obtenu pour le test de rapport."
   ]
  },
  {
   "cell_type": "markdown",
   "metadata": {},
   "source": [
    "#### Test des constantes"
   ]
  },
  {
   "cell_type": "markdown",
   "metadata": {},
   "source": [
    "<u>**Question 4.a):**</u> Effectuez le test des constantes de votre algorithme."
   ]
  },
  {
   "cell_type": "code",
   "execution_count": 160,
   "metadata": {},
   "outputs": [],
   "source": [
    "# TODO Test des constantes"
   ]
  },
  {
   "cell_type": "markdown",
   "metadata": {},
   "source": [
    "<u>**Question 4.b):**</u> Analysez le graphe obtenu pour le test des constantes."
   ]
  },
  {
   "cell_type": "markdown",
   "metadata": {},
   "source": [
    "# Conclusion (3 pts)\n",
    "\n",
    "Résumez *brièvement* vos découvertes et analyses, et indiquez dans quelles circonstances vous utiliserez chacun de ces algorithmes."
   ]
  },
  {
   "cell_type": "markdown",
   "metadata": {},
   "source": [
    " ## Autres critères (2 pts)\n",
    " Qualité du code / 1 pt\n",
    "\n",
    "Présentation générale / 1 pt\n",
    "\n",
    "- Concision\n",
    "- Qualité du français\n",
    "\n",
    "Pénalité retard\n",
    "- -1 pt / journée de retard, arrondi vers le haut. Les TPs ne sont plus acceptés après 3 jours."
   ]
  }
 ],
 "metadata": {
  "kernelspec": {
   "display_name": "Python 3",
   "language": "python",
   "name": "python3"
  },
  "language_info": {
   "codemirror_mode": {
    "name": "ipython",
    "version": 3
   },
   "file_extension": ".py",
   "mimetype": "text/x-python",
   "name": "python",
   "nbconvert_exporter": "python",
   "pygments_lexer": "ipython3",
   "version": "3.9.13"
  }
 },
 "nbformat": 4,
 "nbformat_minor": 4
}
