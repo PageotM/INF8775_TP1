{
 "cells": [
  {
   "cell_type": "markdown",
   "metadata": {},
   "source": [
    "# INF8775 – Analyse et conception d’algorithmes\n",
    "# TP1 – Hiver 2025"
   ]
  },
  {
   "cell_type": "markdown",
   "metadata": {},
   "source": [
    "Gilbert, Victor, 2143708\n",
    "\n",
    "PAGEOT, Maxime, 2146612"
   ]
  },
  {
   "cell_type": "markdown",
   "metadata": {},
   "source": [
    "Note finale: "
   ]
  },
  {
   "cell_type": "markdown",
   "metadata": {},
   "source": [
    "<u>**Date limite de remise :**</u>  11 Février 23h59 (Groupe B2), 18 Février 23h59 (Groupe B1)"
   ]
  },
  {
   "cell_type": "markdown",
   "metadata": {},
   "source": [
    "# Instructions"
   ]
  },
  {
   "cell_type": "markdown",
   "metadata": {},
   "source": [
    "## Rédaction et remise du rapport\n",
    "\n",
    "- Ce notebook constitue à la fois le sujet du TP, votre code et votre rapport. Il contient déjà du code pour faciliter vos mesures et l'affichage de vos résultats, ainsi qu'un squelette pour votre rapport.\n",
    "\n",
    "- Complétez directement le notebook, vous êtes libres de créer des nouvelles cellules de code ou de texte. \n",
    "\n",
    "- Les questions et tâches à effectuer sont généralement indiquées par un TODO, mais lisez attentivement car nous pourrions avoir oublié d'en indiquer certaines.\n",
    "\n",
    "- Des questions sont réutilisées d'un algorithme à l'autre (puisque l'on reproduit les expérimentations à des fins de comparaison). Veillez à suffisament développer les premières réponses afin de l'on comprenne bien votre raisonnement et pour montrer votre bonne compréhension. Vous pourrez être plus concis par la suite.\n",
    "\n",
    "- <u>**IMPORTANT**</u> Remettez le fichier du notebook sur Moodle avec le nom `MATRICULE1_MATRICULE2.ipynb`\n",
    "\n",
    "- Vous pouvez inclure du code trouvé sur Internet, mais vous devez en mentionner la source, sous peine d'être sanctionnés pour plagiat."
   ]
  },
  {
   "cell_type": "markdown",
   "metadata": {},
   "source": [
    "## Mise en situation\n",
    "\n",
    "Ce travail pratique se répartit sur deux séances de laboratoire et porte sur l’analyse théorique et hybride des algorithmes. Dans les capsules vidéo de la semaine 3, trois approches d’analyse de l’implantation d’un algorithme sont décrites. Vous les mettrez en pratique pour des algorithmes de résolution d’un problème connu."
   ]
  },
  {
   "cell_type": "markdown",
   "metadata": {},
   "source": [
    "## Description du problème\n",
    "\n",
    "On vous demande de résoudre le problème classique de trier une liste de nombres aléatoires.\n",
    "\n",
    "La taille de la liste `SIZE` ainsi que la grandeur maximale des nombres permis `MAX_NUMBER` changeront d'un échantillon à l'autre. Il est **important** de considérer les deux variables dans vos analyses. Par contre, si vous prouvez qu'une des variables n'affecte pas la complexité d'un algorithme, il n'est pas nécessaire de compléter le reste de l'analyse pour celle-ci.\n",
    "\n",
    "Porter une attention particulière à vos analyses, car c'est ce qui est le plus important dans ce travail. Assurez vous de respecter un certain formalisme, comme si vous rédigiez un rapport, et de bien expliquez tous vos résultats et graphiques. Une réponse sans explication ne rapportera pas tous les points."
   ]
  },
  {
   "cell_type": "markdown",
   "metadata": {},
   "source": [
    "## Algorithmes à implanter\n",
    "\n",
    "On vous demande de résoudre ce problème de 5 façons différentes :\n",
    "\n",
    "1. En utilisant un algorithme simple: `Insertion Sort` ;\n",
    "2. En utilisant un algorithme diviser pour régner: `Quick Sort` en utilisant un pivot simple ;\n",
    "3. En utilisant l'algorithme précédent avec une certaine heuristique pour sélectionner le pivot ;\n",
    "4. En utilisant l'algorithme précédent avec un seuil de récursivité non élémentaire ;\n",
    "5. En utilisant un algorithme non comparatif: `Count Sort`.\n",
    "\n",
    "Pour l'algorithme 2, nous considérons simple de sélectionner la valeur au centre de la liste comme le pivot. Pour l'algo 3, vous pourriez utiliser la médiane ou la pseudo médiane de l'ensemble de la liste ou d'un sous-ensemble comme étant le pivot, mais il y a d'autre possibilités.\n",
    "\n",
    "Pour l’algorithme 4, vous devrez déterminer un seuil de récursivité expérimentalement. Les exemplaires dont la taille est inférieure à ce seuil ne sont plus résolus récursivement mais plutôt directement avec l’algorithme 1."
   ]
  },
  {
   "cell_type": "markdown",
   "metadata": {},
   "source": [
    "\n",
    "## Jeu de données\n",
    "\n",
    "La classe `Problem` existe pour simplifier l'interface des différentes fonctions utilitaires. Elle permet de générer des jeux de données avec la méthode `generate_sample` ci-dessous. Elle génère une liste de taille `SIZE` contenant des nombres entre 1 et `MAX_NUMBER`. Vous pouvez utilisez des listes aléatoires pour tester votre code."
   ]
  },
  {
   "cell_type": "code",
<<<<<<< HEAD
   "execution_count": 4,
=======
   "execution_count": 88,
>>>>>>> 142dff629cd279556ccee286d36b4fcfa75c1b48
   "metadata": {},
   "outputs": [],
   "source": [
    "import random\n",
    "from collections.abc import Iterable\n",
    "\n",
    "class Problem():\n",
    "    def __init__(self, size: int, max_number: int, num_samples: int = 5) -> None:\n",
    "        self.size=size\n",
    "        self.max_number=max_number\n",
    "        self.num_samples=num_samples\n",
    "        self.samples = self.generate_dataset()\n",
    "    \n",
    "    def generate_sample(self) -> list[int]:\n",
    "        \"\"\"Returns a list of the given size containing numbers between 1 and the max_number\"\"\"\n",
    "        return [random.randint(1, self.max_number) for _ in range(self.size)]\n",
    "    \n",
    "    def generate_dataset(self) -> Iterable[list[int]]:\n",
    "        \"\"\"Returns an iterator over as many samples as are described \"\"\"\n",
    "        return (self.generate_sample() for _ in range(self.num_samples))"
   ]
  },
  {
   "cell_type": "markdown",
   "metadata": {},
   "source": [
    "# Implantations et expérimentations"
   ]
  },
  {
   "cell_type": "markdown",
   "metadata": {},
   "source": [
    "Ces fonctions auxiliaires vous sont fournies pour vérifier l'exactitude des vos algorithmes, mesurer leur performance et afficher vos résultats.\n",
    "\n",
    "Il est recommandé de prendre le temps de lire et comprendre le code.\n",
    "\n",
    "Exécutez la cellule ci-dessous pour pouvoir utiliser les fonctions auxiliaires."
   ]
  },
  {
   "cell_type": "code",
<<<<<<< HEAD
   "execution_count": 5,
=======
   "execution_count": 89,
>>>>>>> 142dff629cd279556ccee286d36b4fcfa75c1b48
   "metadata": {},
   "outputs": [],
   "source": [
    "import matplotlib.pyplot as plt\n",
    "import time\n",
    "from collections.abc import Callable\n",
    "from math import log10\n",
    "from scipy.stats import linregress\n",
    "\n",
    "class InvalidSolution(Exception):\n",
    "    def __init__(self):\n",
    "        super().__init__(\"Invalid solution, verify your code.\")\n",
    "\n",
    "class Measure():\n",
    "    \"\"\"A wrapper to contain information on taken measures\"\"\"\n",
    "    def __init__(self, size: int, max_number: int, mean: int) -> None:\n",
    "        self.size = size\n",
    "        self.max_number = max_number\n",
    "        self.mean = mean\n",
    "\n",
    "def convert_list_to_dict(original: list[int]) -> dict[int:int]:\n",
    "    \"\"\"Converts a list into a dictionary of frequencies\"\"\"\n",
    "    freq: dict[int:int] = dict()\n",
    "    for iter in original:\n",
    "        if iter not in freq.keys():\n",
    "            freq[iter] = 0\n",
    "        freq[iter] += 1\n",
    "    return freq\n",
    "\n",
    "def is_valid_solution(original: list[int], solution: list[int]) -> bool:\n",
    "    \"\"\"Validates both if the solution is sorted and if the list was not modified\"\"\"\n",
    "    # Lists must be of equal length\n",
    "    if len(solution) != len(original):\n",
    "        return False\n",
    "    \n",
    "    # List must be in increasing order\n",
    "    for i in range(1, len(solution)):\n",
    "        if solution[i-1] > solution[i]:\n",
    "            return False\n",
    "    \n",
    "    original_freq = convert_list_to_dict(original)\n",
    "    solution_freq = convert_list_to_dict(solution)\n",
    "    # Lists must have the same values\n",
    "    for key in original_freq.keys():\n",
    "        if key not in solution_freq.keys() or\\\n",
    "            solution_freq[key] != original_freq[key]:\n",
    "            return False\n",
    "    \n",
    "    # Solution is valid\n",
    "    return True\n",
    "\n",
    "def make_problems(sizes: list[int], max_numbers: list[int], num_samples: int = 5) -> list[Problem]:\n",
    "    \"\"\"Creates problem instances using given sizes and max_numbers\"\"\"\n",
    "    problems: list[Problem] = []\n",
    "    for size in sizes:\n",
    "        for max_number in max_numbers:\n",
    "            problems.append(Problem(size,max_number,num_samples))\n",
    "    return problems\n",
    "\n",
    "def measure(procedure: Callable[[list[int]],list[int]], sample: list[int], time_scale: int = 1000) -> int:\n",
    "    \"\"\"Returns the time in milliseconds taken to run the procedure.\n",
    "\n",
    "    Raises:\n",
    "        InvalidSolution: If the procedure returns an invalid solution, raises an exception.\n",
    "    \"\"\"\n",
    "    start: int = time.time() * time_scale\n",
    "    solution: list[int] = procedure(sample)\n",
    "    end: int = time.time() * time_scale\n",
    "    if not is_valid_solution(sample, solution):\n",
    "        raise InvalidSolution()\n",
    "    return round(end - start)\n",
    "\n",
    "def measure_mean(procedure: Callable[[list[int]],list[int]], prob: Problem, time_scale: int = 1000) -> Measure:\n",
    "    \"\"\"Generates multiple samples with the specified parameters and returns the mean time in milliseconds\n",
    "\n",
    "    Raises:\n",
    "        InvalidSolution: If one of the samples results in an invalid solution.\n",
    "    \"\"\"\n",
    "    mean_time = sum(\n",
    "        [measure(procedure,sample,time_scale) for sample in prob.samples]\n",
    "    ) / prob.num_samples\n",
    "    return Measure(prob.size, prob.max_number, mean_time)\n",
    "\n",
    "def measure_range(procedure: Callable[[list[int]],list[int]], problems: list[Problem], time_scale: int = 1000) -> list[Measure]:\n",
    "    \"\"\"Measures the mean time taken in milliseconds for each size in the given list.\n",
    "    Uses a fixed max_number to measure the effect of size on its own.\n",
    "\n",
    "    Raises:\n",
    "        InvalidSolution: If one of the samples results in an invalid solution.\n",
    "    \n",
    "    Returns:\n",
    "        A list of Measure instances containing the specifications\n",
    "        of the problem as well as the mean time.\n",
    "    \"\"\"\n",
    "    return [\n",
    "        measure_mean(procedure, prob, time_scale)\n",
    "        for prob in problems\n",
    "    ]\n",
    "\n",
    "def test_threshold(\n",
    "    procedure: Callable[[list[int],int],list[int]],\n",
    "    thresholds: list[int], problem: Problem\n",
    ") -> dict[int,int]:\n",
    "    \"\"\"Tests the different thresholds on the same problem instance.\"\"\"\n",
    "    threshold_measures = dict()\n",
    "    for threshold in thresholds:\n",
    "        threshold_measures[threshold] = 0\n",
    "        for sample in problem.generate_dataset():\n",
    "            start = time.time() * 1000\n",
    "            solution = procedure(sample,threshold)\n",
    "            end = time.time() * 1000\n",
    "            if not is_valid_solution(sample,solution):\n",
    "                raise InvalidSolution()\n",
    "            threshold_measures[threshold] += end - start\n",
    "        threshold_measures[threshold] /= problem.num_samples\n",
    "    return threshold_measures\n",
    "\n",
    "def estimate_threshold(\n",
    "    first_data: dict[int,int],\n",
    "    second_data: dict[int,int],\n",
    "    first_label: str,\n",
    "    second_label: str\n",
    "):\n",
    "    plt.plot(list(first_data.keys()),list(first_data.values()),label=first_label)\n",
    "    plt.plot(list(second_data.keys()),list(second_data.values()),label=second_label)\n",
    "    plt.xlabel('Taille')\n",
    "    plt.ylabel('Temps (ms)')\n",
    "    plt.title('Estimation du seuil')\n",
    "    plt.show()\n",
    "\n",
    "def display_threshold_measures(data: dict[int,int]):\n",
    "    \"\"\"Displays a graph of the time take to solve in regards to the chosen threshold\"\"\"\n",
    "    x = list(data.keys())\n",
    "    y = list(data.values())\n",
    "    plt.plot(x, y, label='Mesures')\n",
    "    plt.scatter(x, y, label='Mesures')\n",
    "\n",
    "    # Add labels and title\n",
    "    plt.xlabel('Seuil')\n",
    "    plt.ylabel('Temps (ms)')\n",
    "    plt.title('Selection du seuil')\n",
    "    plt.show()\n",
    "     \n",
    "def display_data_as_table(measures: list[Measure]):\n",
    "    \"\"\"Prints a table with the data in the given list of measures\"\"\"\n",
    "    print(\"{: <12} {: <12} {: <12}\".format(\"Taille\", \"Nombre maximal\", \"Temps moyen (ms)\"))\n",
    "    for measure in measures:\n",
    "        print(\"{: <12} {: <12} {: <12}\".format(measure.size, measure.max_number, measure.mean))\n",
    "\n",
    "### The different tests are below, the names are in french to avoid confusion\n",
    "\n",
    "def test_de_puissance(\n",
    "    data: dict[int,int],\n",
    "    x_label: str,\n",
    "    y_label: str,\n",
    "    title: str = \"Test de puissance\"\n",
    "):\n",
    "    \"\"\"Takes the data and displays it into the corresponding test graph.\n",
    "    It applies no transformations to the data.\n",
    "\n",
    "    Args:\n",
    "        data (dict[int,int]): A dictionnary mapping the x variable to the y variable\n",
    "    \"\"\"\n",
    "    # Log both sets of values\n",
    "    x = list(data.keys())\n",
    "    y = list(data.values())\n",
    "    \n",
    "    # Perform the lin regression\n",
    "    m, b, rvalue, _, _ = linregress(x, y)\n",
    "    \n",
    "    # Estimate the values of y based on the lin regression results\n",
    "    predicted = [m * iter + b for iter in x]\n",
    "\n",
    "    # Create the line equation\n",
    "    line_eq = f\"y = {m:.2f}x + {b:.2f}\"\n",
    "\n",
    "    # Plot the points\n",
    "    plt.scatter(x, y, label='Mesures')\n",
    "\n",
    "    # Plot the regression line\n",
    "    plt.plot(x, predicted, color=\"red\", label=f'Regression linéaire R²={round(rvalue**2,6)}')\n",
    "    \n",
    "    # Add labels and title\n",
    "    plt.xlabel(x_label)\n",
    "    plt.ylabel(y_label)\n",
    "    plt.title(title)\n",
    "\n",
    "    # Add legend\n",
    "    plt.legend(bbox_to_anchor=(0.60, 0), loc='lower left')\n",
    "\n",
    "    # Display the line equation\n",
    "    plt.text(min(x), max(y), line_eq)\n",
    "\n",
    "    # Show the plot\n",
    "    plt.show()\n",
    "\n",
    "def test_de_rapport(\n",
    "    data: dict[int,int],\n",
    "    x_label: str,\n",
    "    y_label: str,\n",
    "    title: str = \"Test de rapport\"\n",
    "):\n",
    "    \"\"\"Takes the data and displays it into the corresponding test graph.\n",
    "    It applies no transformations to the data.\n",
    "\n",
    "    Args:\n",
    "        data (dict[int,int]): A dictionnary mapping the x variable to the y variable\n",
    "    \"\"\"\n",
    "    x = list(data.keys())\n",
    "    y = list(data.values())\n",
    "\n",
    "    plt.plot(x, y, label='Mesures')\n",
    "    plt.scatter(x, y, label='Mesures')\n",
    "\n",
    "    # Add labels and title\n",
    "    plt.xlabel(x_label)\n",
    "    plt.ylabel(y_label)\n",
    "    plt.title(title)\n",
    "    plt.show()\n",
    "\n",
    "def test_de_constantes(\n",
    "    data: dict[int,int],\n",
    "    x_label: str,\n",
    "    y_label: str = \"Temps (ms)\",\n",
    "    title: str = \"Test de constantes\"\n",
    "):\n",
    "    \"\"\"Takes the data and displays it into the corresponding test graph.\n",
    "    It applies no transformations to the data.\n",
    "\n",
    "    Args:\n",
    "        data (dict[int,int]): A dictionnary mapping the x variable to the y variable\n",
    "    \"\"\"\n",
    "    x = list(data.keys())\n",
    "    y = list(data.values())\n",
    "\n",
    "    # Perform linear regression\n",
    "    m, b, rvalue, _, _ = linregress(x, y)\n",
    "\n",
    "    predicted = [m * iter + b for iter in x]\n",
    "\n",
    "    # Create the line equation\n",
    "    line_eq = f\"y = {m:.2E}x + {b:.2E}\"\n",
    "\n",
    "    # Plot the points\n",
    "    plt.scatter(x, y, label='Mesures')\n",
    "\n",
    "    # Plot the regression line\n",
    "    plt.plot(x, predicted, color=\"red\", label=f'Regression linéaire R²={round(rvalue**2,6)}')\n",
    " \n",
    "    # Add labels and title\n",
    "    plt.xlabel(x_label)\n",
    "    plt.ylabel(y_label)\n",
    "    plt.title(title)\n",
    "\n",
    "    # Add legend\n",
    "    plt.legend(bbox_to_anchor=(0.60, 0), loc='lower left')\n",
    "\n",
    "    # Display the line equation\n",
    "    plt.text(min(x), max(y), line_eq)\n",
    "\n",
    "    # Show the plot\n",
    "    plt.show()"
   ]
  },
  {
   "cell_type": "markdown",
   "metadata": {},
   "source": [
    "## Exemple : Bubble Sort"
   ]
  },
  {
   "cell_type": "code",
   "execution_count": 90,
   "metadata": {},
   "outputs": [
    {
     "name": "stdout",
     "output_type": "stream",
     "text": [
      "Taille       Nombre maximal Temps moyen (ms)\n",
      "1000         4000         125.8       \n",
      "1500         4000         286.4       \n",
      "2000         4000         505.0       \n",
      "Taille       Nombre maximal Temps moyen (ms)\n",
      "2000         2000         506.2       \n",
      "2000         3000         501.8       \n",
      "2000         4000         502.6       \n"
     ]
    }
   ],
   "source": [
    "def bubble_sort(original: list[int]) -> list[int]:\n",
    "    for i in range(len(original)):\n",
    "        for j in range(0, len(original)-i-1):\n",
    "            if original[j] > original[j+1]:\n",
    "                original[j], original[j+1] = original[j+1], original[j]\n",
    "    return original\n",
    "\n",
    "# This test would allow to see the variation associated to the SIZE variable\n",
    "measures = measure_range(bubble_sort, make_problems([1000,1500,2000],[4000]))\n",
    "display_data_as_table(measures)\n",
    "\n",
    "# This test would allow to see the variation associated to the MAX_NUMBER variable. Results show that there is no variation\n",
    "measures = measure_range(bubble_sort, make_problems([2000],[2000,3000,4000]))\n",
    "display_data_as_table(measures)"
   ]
  },
  {
   "cell_type": "markdown",
   "metadata": {},
   "source": [
    "## Partie 1 : Algorithme simple (Insertion Sort) (5 pts)"
   ]
  },
  {
   "cell_type": "markdown",
   "metadata": {},
   "source": [
    "### Implantation"
   ]
  },
  {
   "cell_type": "markdown",
   "metadata": {},
   "source": [
    "<u>**Question 1.a):**</u> Implantez l'algorithme de tri insertion sort.\n",
    "\n",
    "Utilisez la fonction `is_valid_solution` pour valider votre réponse sur quelques exemplaires aléatoires."
   ]
  },
  {
   "cell_type": "code",
<<<<<<< HEAD
   "execution_count": 9,
=======
   "execution_count": 91,
>>>>>>> 142dff629cd279556ccee286d36b4fcfa75c1b48
   "metadata": {},
   "outputs": [
    {
     "name": "stdout",
     "output_type": "stream",
     "text": [
      "ca marche frca fonctionne :)\n"
     ]
    }
   ],
   "source": [
    "def insertion_sort(original: list[int]) -> list[int]:\n",
    "    # TODO\n",
    "    copyOfOriginal = list(original);\n",
    "    sortedList = []\n",
    "    for num in copyOfOriginal:\n",
    "        i = 0\n",
    "        if sortedList.__len__() == 0:\n",
    "            sortedList.append(num)\n",
    "        else:\n",
    "            for sortedItem in sortedList:\n",
    "                if num <= sortedItem :\n",
    "                    sortedList.insert(i,num)\n",
    "                    break\n",
    "                elif  i == sortedList.__len__()-1:\n",
    "                    sortedList.append(num)\n",
    "                    break\n",
    "                i+=1\n",
    "    return sortedList\n",
    "\n",
    "testList = [4,2,5,7,5,8,9,10000,-23]\n",
    "\n",
    "if is_valid_solution(testList,insertion_sort(testList)):\n",
    "    print(\"ca marche frca fonctionne :)\")\n",
    "else:\n",
    "    print(\"ca fonctionne pas :(\")\n"
   ]
  },
  {
   "cell_type": "markdown",
   "metadata": {},
   "source": [
    "<u>**Question 1.b):**</u> Quelle est la complexité asymptotique théorique de cet algorithme? Expliquez <br>\n",
    "Cet algorithme a une complexité moyenne de O(n**2), pour chaque item de la liste on itère sur la liste des items déja triés, proportionel a n: n * n = n^2"
   ]
  },
  {
   "cell_type": "markdown",
   "metadata": {},
   "source": [
    "### Mesures"
   ]
  },
  {
   "cell_type": "markdown",
   "metadata": {},
   "source": [
    "Pour cet algorithme ainsi que les prochains, vous devez choisir les différentes tailles de liste que vous voulez tester. Choisissez des tailles qui ont des résultats intéressants, une taille de 5 qui se termine en une fraction de millisecondes n'est pas le meilleur résultat pour faire des comparaisons.\n",
    "\n",
    "Pour faire des mesures, utilisez la fonction `measure_range`. Elle permet de faire des mesures sur une liste de problèmes. Vous pouvez facilement créer des problèmes en utilisant la fonction `make_problems`. Ne faites varier que la taille <u>**OU**</u> la grandeur maximale des nombres pour observer le comportement d'un des deux paramètres. Le code fournit s'occupera de générer des échantillons aléatoires, de calculer le temps moyen et de vous retourner une liste de mesures. Vous pouvez utilisez la fonction `range` de python pour obtenir une grande liste et avoir plusieurs points (faites attention au temps d'exécution).\n",
    "\n",
    "Ces données peuvent ensuite être passées aux fonctions `test_de_...` en les mettant dans un `dict` python tel que `x:y`. Les tests ont de la documentation pour expliquer leur utilisation en plus de détails."
   ]
  },
  {
   "cell_type": "markdown",
   "metadata": {},
   "source": [
    "<u>**Question 1.c):**</u> Faites afficher vos mesures dans un tableau avec la fonction `display_data_as_table`."
   ]
  },
  {
   "cell_type": "code",
   "execution_count": 92,
   "metadata": {},
   "outputs": [
    {
     "name": "stdout",
     "output_type": "stream",
     "text": [
      "Taille       Nombre maximal Temps moyen (ms)\n",
      "1000         4000         84.4        \n",
      "1500         4000         182.2       \n",
      "2000         4000         322.6       \n"
     ]
    }
   ],
   "source": [
    "# TODO take measurements\n",
    "# This test would allow to see the variation associated to the SIZE variable\n",
    "measures = measure_range(insertion_sort, make_problems([1000,1500,2000],[4000]))\n",
    "display_data_as_table(measures)\n",
    "\n"
   ]
  },
  {
   "cell_type": "code",
   "execution_count": 93,
   "metadata": {},
   "outputs": [
    {
     "name": "stdout",
     "output_type": "stream",
     "text": [
      "Taille       Nombre maximal Temps moyen (ms)\n",
      "2000         2000         327.4       \n",
      "2000         3000         343.6       \n",
      "2000         4000         406.2       \n"
     ]
    }
   ],
   "source": [
    "# TODO Display data as tables\n",
    "# This test would allow to see the variation associated to the MAX_NUMBER variable. Results show that there is no variation\n",
    "measures = measure_range(insertion_sort, make_problems([2000],[2000,3000,4000]))\n",
    "display_data_as_table(measures)"
   ]
  },
  {
   "cell_type": "markdown",
   "metadata": {},
   "source": [
    "### Analyse Hybride"
   ]
  },
  {
   "cell_type": "markdown",
   "metadata": {},
   "source": [
    "#### Test de puissance"
   ]
  },
  {
   "cell_type": "markdown",
   "metadata": {},
   "source": [
    "<u>**Question 2.a):**</u> Effectuez le test de puissance de votre algorithme."
   ]
  },
  {
   "cell_type": "code",
   "execution_count": 101,
   "metadata": {},
   "outputs": [
    {
     "data": {
      "image/png": "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",
      "text/plain": [
       "<Figure size 640x480 with 1 Axes>"
      ]
     },
     "metadata": {},
     "output_type": "display_data"
    }
   ],
   "source": [
    "# TODO Test de puissance\n",
    "import math\n",
    "measures = measure_range(insertion_sort, make_problems(range(10,2100,100),[4000]),1000)\n",
    "measuresAsDict = {math.log(measure.size): math.log(measure.mean) for measure in measures}\n",
    "test_de_puissance(measuresAsDict, \"taille de la liste\",\"temps de traitement\")"
   ]
  },
  {
   "cell_type": "markdown",
   "metadata": {},
   "source": [
    "<u>**Question 2.b):**</u> Analysez le graphe obtenu pour le test de puissance."
   ]
  },
  {
   "cell_type": "markdown",
   "metadata": {},
   "source": [
    "#### Test de rapport"
   ]
  },
  {
   "cell_type": "markdown",
   "metadata": {},
   "source": [
    "<u>**Question 3.a):**</u> Effectuez le test de rapport de votre algorithme."
   ]
  },
  {
   "cell_type": "code",
   "execution_count": 132,
   "metadata": {},
   "outputs": [
    {
     "name": "stdout",
     "output_type": "stream",
     "text": [
      "[0.002, 9.917355371900826e-05, 9.523809523809524e-05, 9.157127991675339e-05, 0.00011183819155264723, 8.304498269896194e-05, 7.686105885514647e-05, 8.212656219004165e-05, 7.864654778235025e-05, 7.945900253592561e-05, 8.018821684148613e-05, 8.197386575764954e-05, 7.963936889556724e-05, 7.924946098712197e-05, 8.259141894270912e-05, 8.473312574009911e-05, 7.900929748080707e-05, 8.474402380219555e-05, 8.156039192942828e-05, 8.349551821496122e-05]\n"
     ]
    },
    {
     "data": {
      "image/png": "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",
      "text/plain": [
       "<Figure size 640x480 with 1 Axes>"
      ]
     },
     "metadata": {},
     "output_type": "display_data"
    }
   ],
   "source": [
    "# TODO Test de rapport\n",
    "measuresAsDict = {measure.size: measure.mean/math.pow(measure.size,2) for measure in measures}\n",
    "print([measure.mean/math.pow(measure.size,2) for measure in measures])\n",
    "\n",
    "test_de_rapport(measuresAsDict, \"taille de la liste\",\"temps de traitement\")"
   ]
  },
  {
   "cell_type": "markdown",
   "metadata": {},
   "source": [
    "<u>**Question 3.b):**</u> Analysez le graphe obtenu pour le test de rapport.\n",
    "La fonction converge immédiatement sur une valeur supérieur a, approximativement 0.8 e-05"
   ]
  },
  {
   "cell_type": "markdown",
   "metadata": {},
   "source": [
    "#### Test des constantes"
   ]
  },
  {
   "cell_type": "markdown",
   "metadata": {},
   "source": [
    "<u>**Question 4.a):**</u> Effectuez le test des constantes de votre algorithme."
   ]
  },
  {
   "cell_type": "code",
   "execution_count": 133,
   "metadata": {},
   "outputs": [],
   "source": [
    "# TODO Test des constantes"
   ]
  },
  {
   "cell_type": "markdown",
   "metadata": {},
   "source": [
    "<u>**Question 4.b):**</u> Analysez le graphe obtenu pour le test des constantes."
   ]
  },
  {
   "cell_type": "markdown",
   "metadata": {},
   "source": [
    "## Partie 2 : Algorithme diviser pour régner (Quick Sort) (5 pts)"
   ]
  },
  {
   "cell_type": "markdown",
   "metadata": {},
   "source": [
    "### Implantation"
   ]
  },
  {
   "cell_type": "markdown",
   "metadata": {},
   "source": [
    "<u>**Question 1.a):**</u> Implantez l'algorithme de tri quick sort avec un pivot simple.\n",
    "\n",
    "Utilisez la fonction `is_valid_solution` pour valider votre réponse sur quelques exemplaires aléatoires."
   ]
  },
  {
   "cell_type": "code",
<<<<<<< HEAD
   "execution_count": 7,
   "metadata": {},
   "outputs": [
    {
     "data": {
      "text/plain": [
       "True"
      ]
     },
     "execution_count": 7,
     "metadata": {},
     "output_type": "execute_result"
    }
   ],
=======
   "execution_count": 134,
   "metadata": {},
   "outputs": [],
>>>>>>> 142dff629cd279556ccee286d36b4fcfa75c1b48
   "source": [
    "def quick_sort(original: list[int]) -> list[int]:\n",
    "    # TODO\n",
    "    return original"
   ]
  },
  {
   "cell_type": "markdown",
   "metadata": {},
   "source": [
    "<u>**Question 1.b):**</u> Quelle est la complexité asymptotique théorique de cet algorithme? Expliquez"
   ]
  },
  {
   "cell_type": "markdown",
   "metadata": {},
   "source": [
    "### Mesures"
   ]
  },
  {
   "cell_type": "markdown",
   "metadata": {},
   "source": [
    "<u>**Question 1.c):**</u> Faites afficher vos mesures dans un tableau avec la fonction `display_data_as_table`."
   ]
  },
  {
   "cell_type": "code",
   "execution_count": 135,
   "metadata": {},
   "outputs": [],
   "source": [
    "# TODO take measurements"
   ]
  },
  {
   "cell_type": "code",
   "execution_count": 136,
   "metadata": {},
   "outputs": [],
   "source": [
    "# TODO Display data as tables"
   ]
  },
  {
   "cell_type": "markdown",
   "metadata": {},
   "source": [
    "### Analyse Hybride"
   ]
  },
  {
   "cell_type": "markdown",
   "metadata": {},
   "source": [
    "#### Test de puissance"
   ]
  },
  {
   "cell_type": "markdown",
   "metadata": {},
   "source": [
    "<u>**Question 2.a):**</u> Effectuez le test de puissance de votre algorithme."
   ]
  },
  {
   "cell_type": "code",
   "execution_count": 137,
   "metadata": {},
   "outputs": [],
   "source": [
    "# TODO Test de puissance"
   ]
  },
  {
   "cell_type": "markdown",
   "metadata": {},
   "source": [
    "<u>**Question 2.b):**</u> Analysez le graphe obtenu pour le test de puissance."
   ]
  },
  {
   "cell_type": "markdown",
   "metadata": {},
   "source": [
    "#### Test de rapport"
   ]
  },
  {
   "cell_type": "markdown",
   "metadata": {},
   "source": [
    "<u>**Question 3.a):**</u> Effectuez le test de rapport de votre algorithme."
   ]
  },
  {
   "cell_type": "code",
   "execution_count": 138,
   "metadata": {},
   "outputs": [],
   "source": [
    "# TODO Test de rapport"
   ]
  },
  {
   "cell_type": "markdown",
   "metadata": {},
   "source": [
    "<u>**Question 3.b):**</u> Analysez le graphe obtenu pour le test de rapport."
   ]
  },
  {
   "cell_type": "markdown",
   "metadata": {},
   "source": [
    "#### Test des constantes"
   ]
  },
  {
   "cell_type": "markdown",
   "metadata": {},
   "source": [
    "<u>**Question 4.a):**</u> Effectuez le test des constantes de votre algorithme."
   ]
  },
  {
   "cell_type": "code",
   "execution_count": 139,
   "metadata": {},
   "outputs": [],
   "source": [
    "# TODO Test des constantes"
   ]
  },
  {
   "cell_type": "markdown",
   "metadata": {},
   "source": [
    "<u>**Question 4.b):**</u> Analysez le graphe obtenu pour le test des constantes."
   ]
  },
  {
   "cell_type": "markdown",
   "metadata": {},
   "source": [
    "## Partie 3 : Algorithme diviser pour régner amélioré (Quick Sort) (5 pts)"
   ]
  },
  {
   "cell_type": "markdown",
   "metadata": {},
   "source": [
    "### Implantation"
   ]
  },
  {
   "cell_type": "markdown",
   "metadata": {},
   "source": [
    "<u>**Question 1.a):**</u> Implantez l'algorithme de tri quick sort, avec une certaine heuristique pour sélectionner un pivot pertinent.\n",
    "\n",
    "Utilisez la fonction `is_valid_solution` pour valider votre réponse sur quelques exemplaires aléatoires."
   ]
  },
  {
   "cell_type": "code",
   "execution_count": 140,
   "metadata": {},
   "outputs": [],
   "source": [
    "def quick_sort_improved(original: list[int]) -> list[int]:\n",
    "    # TODO\n",
    "    return original"
   ]
  },
  {
   "cell_type": "markdown",
   "metadata": {},
   "source": [
    "<u>**Question 1.b):**</u> Quelle est la complexité asymptotique théorique de cet algorithme? Expliquez"
   ]
  },
  {
   "cell_type": "markdown",
   "metadata": {},
   "source": [
    "<u>**Question 1.c):**</u> Quelle est l'impact de l'ajout de votre heuristique? Expliquez"
   ]
  },
  {
   "cell_type": "markdown",
   "metadata": {},
   "source": [
    "### Mesures"
   ]
  },
  {
   "cell_type": "markdown",
   "metadata": {},
   "source": [
    "<u>**Question 1.d):**</u> Faites afficher vos mesures dans un tableau avec la fonction `display_data_as_table`."
   ]
  },
  {
   "cell_type": "code",
   "execution_count": 141,
   "metadata": {},
   "outputs": [],
   "source": [
    "# TODO take measurements"
   ]
  },
  {
   "cell_type": "code",
   "execution_count": 142,
   "metadata": {},
   "outputs": [],
   "source": [
    "# TODO Display data as tables"
   ]
  },
  {
   "cell_type": "markdown",
   "metadata": {},
   "source": [
    "### Analyse Hybride"
   ]
  },
  {
   "cell_type": "markdown",
   "metadata": {},
   "source": [
    "#### Test de puissance"
   ]
  },
  {
   "cell_type": "markdown",
   "metadata": {},
   "source": [
    "<u>**Question 2.a):**</u> Effectuez le test de puissance de votre algorithme."
   ]
  },
  {
   "cell_type": "code",
   "execution_count": 143,
   "metadata": {},
   "outputs": [],
   "source": [
    "# TODO Test de puissance"
   ]
  },
  {
   "cell_type": "markdown",
   "metadata": {},
   "source": [
    "<u>**Question 2.b):**</u> Analysez le graphe obtenu pour le test de puissance."
   ]
  },
  {
   "cell_type": "markdown",
   "metadata": {},
   "source": [
    "#### Test de rapport"
   ]
  },
  {
   "cell_type": "markdown",
   "metadata": {},
   "source": [
    "<u>**Question 3.a):**</u> Effectuez le test de rapport de votre algorithme."
   ]
  },
  {
   "cell_type": "code",
   "execution_count": 144,
   "metadata": {},
   "outputs": [],
   "source": [
    "# TODO Test de rapport"
   ]
  },
  {
   "cell_type": "markdown",
   "metadata": {},
   "source": [
    "<u>**Question 3.b):**</u> Analysez le graphe obtenu pour le test de rapport."
   ]
  },
  {
   "cell_type": "markdown",
   "metadata": {},
   "source": [
    "#### Test des constantes"
   ]
  },
  {
   "cell_type": "markdown",
   "metadata": {},
   "source": [
    "<u>**Question 4.a):**</u> Effectuez le test des constantes de votre algorithme."
   ]
  },
  {
   "cell_type": "code",
   "execution_count": 145,
   "metadata": {},
   "outputs": [],
   "source": [
    "# TODO Test des constantes"
   ]
  },
  {
   "cell_type": "markdown",
   "metadata": {},
   "source": [
    "<u>**Question 4.b):**</u> Analysez le graphe obtenu pour le test des constantes."
   ]
  },
  {
   "cell_type": "markdown",
   "metadata": {},
   "source": [
    "## Partie 4 : Algorithme diviser pour régner avec seuil arbitraire (Quick Sort) (5 pts)"
   ]
  },
  {
   "cell_type": "markdown",
   "metadata": {},
   "source": [
    "### Implantation"
   ]
  },
  {
   "cell_type": "markdown",
   "metadata": {},
   "source": [
    "<u>**Question 1.a):**</u> Quel serait un meilleur choix de seuil? Utilisez la fonction `estimate_threshold` pour avoir une idée où commencer. Analysez le graphe résultant et choisissez un seuil de départ.\n",
    "\n",
    "On recommande de compiler des nouvelles données sur des tailles plus petites. Utilisez un `time_scale` plus grand pour avoir plus de détails (indiquez les unités dans le `y_label`). Une fois que vous avez une idée d'où se situe le point de croisement, vous pouvez refaire le test sur une sélection plus restreinte de tailles en augmentant `num_samples` pour avoir des résultats plus constants."
   ]
  },
  {
   "cell_type": "code",
<<<<<<< HEAD
   "execution_count": null,
   "metadata": {},
   "outputs": [
    {
     "data": {
      "image/png": "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",
      "text/plain": [
       "<Figure size 640x480 with 1 Axes>"
      ]
     },
     "metadata": {},
     "output_type": "display_data"
    }
   ],
   "source": [
    "# TODO Find a better starting point for the threshold\n",
    "import random as rand\n",
    "import copy\n",
    "\n",
    "\n",
    "\n",
    "measures1 = measure_range(quick_sort, make_problems(sizes=[i for i in range(0, 350, 10)],max_numbers=[1000]), time_scale=100000000)\n",
    "measures2 = measure_range(insertion_sort, make_problems(sizes=[i for i in range(0, 350, 10)],max_numbers=[1000]), time_scale=100000000)\n",
    "\n",
    "def make_dict(measures) -> dict[int, int]:\n",
    "    measures_as_dict= dict()\n",
    "    for measure in measures:\n",
    "        measures_as_dict[measure.size] = measure.mean\n",
    "    return measures_as_dict\n",
    "\n",
    "miaw1 = make_dict(measures1)\n",
    "miaw2 = make_dict(measures2)\n",
    "\n",
    "# display_data_as_table(measures)\n",
    "estimate_threshold(miaw1, miaw2, \"one\", \"two\") #miaw1 c'est bleu et l'autre orange"
=======
   "execution_count": 146,
   "metadata": {},
   "outputs": [],
   "source": [
    "# TODO Find a better starting point for the threshold"
>>>>>>> 142dff629cd279556ccee286d36b4fcfa75c1b48
   ]
  },
  {
   "cell_type": "markdown",
   "metadata": {},
   "source": [
    "<u>**Question 1.b):**</u> Reprenez l'algorithme précédent et modifiez-le pour y ajouter un seuil de récursivité. En dessous de ce seuil, vous utiliserez l'algorithme `insertion_sort` écrit précédemment.\n",
    "\n",
    "Utilisez la fonction `is_valid_solution` pour valider votre réponse sur quelques exemplaires aléatoires."
   ]
  },
  {
   "cell_type": "code",
<<<<<<< HEAD
   "execution_count": 135,
=======
   "execution_count": 147,
>>>>>>> 142dff629cd279556ccee286d36b4fcfa75c1b48
   "metadata": {},
   "outputs": [
    {
     "data": {
      "text/plain": [
       "True"
      ]
     },
     "execution_count": 135,
     "metadata": {},
     "output_type": "execute_result"
    }
   ],
   "source": [
    "toSort = [rand.randint(0, 1000) for i in range(10)]\n",
    "def quick_sort_threshold(original: list[int], threshold: int = 1) -> list[int]:\n",
    "    miaw = copy.deepcopy(original)\n",
    "    if len(miaw) < threshold: #finished\n",
    "        return insertion_sort(miaw)\n",
    "    else:\n",
    "        pivotIndex = rand.randint(0, len(miaw) - 1)\n",
    "        pivot = miaw[pivotIndex]\n",
    "        miaw.pop(pivotIndex)\n",
    "        greater = list()\n",
    "        lower = list()\n",
    "\n",
    "        for index in range(len(miaw)):\n",
    "            if miaw[index] <= pivot:\n",
    "                lower.append(miaw[index])\n",
    "            else:\n",
    "                greater.append(miaw[index])\n",
    "        return quick_sort(lower) + [pivot] + quick_sort(greater)\n",
    "    \n",
    "is_valid_solution(toSort,quick_sort_threshold(toSort))"
   ]
  },
  {
   "cell_type": "markdown",
   "metadata": {},
   "source": [
    "<u>**Question 1.c):**</u> À l'aide de ce que vous avez vu dans la section précédente, effectuez les mesures avec plusieurs seuils de récursivité pour déterminer le seuil le plus judicieux. Affichez les dans un graphique une fois que les mesures sont compilées. La fonction `test_threshold` vous sera utile pour faire ces tests. Choisissez bien vos seuils ainsi qu'une taille de liste permettant de bien observer la différence de performance."
   ]
  },
  {
   "cell_type": "code",
   "execution_count": 148,
   "metadata": {},
   "outputs": [],
   "source": [
    "# TODO Test different threshold values"
   ]
  },
  {
   "cell_type": "code",
   "execution_count": 149,
   "metadata": {},
   "outputs": [],
   "source": [
    "# TODO Display a graph with the measurements"
   ]
  },
  {
   "cell_type": "markdown",
   "metadata": {},
   "source": [
    "<u>**Question 1.d):**</u> Quel est le seuil de récursivité le plus judicieux? Sur quel critère l'avez vous sélectionné? Pourquoi des seuils inférieurs ou supérieurs donnent-ils de moins bonnes performances?\n",
    "\n",
    "Changez le seuil par défaut de votre fonction au meilleur choix. Ceci vous permettra d'utiliser les fonctions utilitaires sans passer le seuil comme argument."
   ]
  },
  {
   "cell_type": "markdown",
   "metadata": {},
   "source": [
    "<u>**Question 1.e):**</u> Quelle est la complexité asymptotique théorique de cet algorithme? Expliquez"
   ]
  },
  {
   "cell_type": "markdown",
   "metadata": {},
   "source": [
    "### Mesures"
   ]
  },
  {
   "cell_type": "markdown",
   "metadata": {},
   "source": [
    "<u>**Question 1.f):**</u> Faites afficher vos mesures dans un tableau avec la fonction `display_data_as_table`."
   ]
  },
  {
   "cell_type": "code",
   "execution_count": 150,
   "metadata": {},
   "outputs": [],
   "source": [
    "# TODO take measurements"
   ]
  },
  {
   "cell_type": "code",
   "execution_count": 151,
   "metadata": {},
   "outputs": [],
   "source": [
    "# TODO Display data as tables"
   ]
  },
  {
   "cell_type": "markdown",
   "metadata": {},
   "source": [
    "### Analyse Hybride"
   ]
  },
  {
   "cell_type": "markdown",
   "metadata": {},
   "source": [
    "#### Test de puissance"
   ]
  },
  {
   "cell_type": "markdown",
   "metadata": {},
   "source": [
    "<u>**Question 2.a):**</u> Effectuez le test de puissance de votre algorithme."
   ]
  },
  {
   "cell_type": "code",
   "execution_count": 152,
   "metadata": {},
   "outputs": [],
   "source": [
    "# TODO Test de puissance"
   ]
  },
  {
   "cell_type": "markdown",
   "metadata": {},
   "source": [
    "<u>**Question 2.b):**</u> Analysez le graphe obtenu pour le test de puissance."
   ]
  },
  {
   "cell_type": "markdown",
   "metadata": {},
   "source": [
    "#### Test de rapport"
   ]
  },
  {
   "cell_type": "markdown",
   "metadata": {},
   "source": [
    "<u>**Question 3.a):**</u> Effectuez le test de rapport de votre algorithme."
   ]
  },
  {
   "cell_type": "code",
   "execution_count": 153,
   "metadata": {},
   "outputs": [],
   "source": [
    "# TODO Test de rapport"
   ]
  },
  {
   "cell_type": "markdown",
   "metadata": {},
   "source": [
    "<u>**Question 3.b):**</u> Analysez le graphe obtenu pour le test de rapport."
   ]
  },
  {
   "cell_type": "markdown",
   "metadata": {},
   "source": [
    "#### Test des constantes"
   ]
  },
  {
   "cell_type": "markdown",
   "metadata": {},
   "source": [
    "<u>**Question 4.a):**</u> Effectuez le test des constantes de votre algorithme."
   ]
  },
  {
   "cell_type": "code",
   "execution_count": 154,
   "metadata": {},
   "outputs": [],
   "source": [
    "# TODO Test des constantes"
   ]
  },
  {
   "cell_type": "markdown",
   "metadata": {},
   "source": [
    "<u>**Question 4.b):**</u> Analysez le graphe obtenu pour le test des constantes."
   ]
  },
  {
   "cell_type": "markdown",
   "metadata": {},
   "source": [
    "<u>**Question 5):**</u> Commentez l'impact du seuil de récursivité. Que représente-t-il pour l'algorithme diviser pour régner et l'algorithme naïf ?"
   ]
  },
  {
   "cell_type": "markdown",
   "metadata": {},
   "source": [
    "## Partie 5 : Algorithme non comparatif (Count Sort) (5 pts)"
   ]
  },
  {
   "cell_type": "markdown",
   "metadata": {},
   "source": [
    "### Implantation"
   ]
  },
  {
   "cell_type": "markdown",
   "metadata": {},
   "source": [
    "<u>**Question 1.a):**</u> Implantez l'algorithme de tri count sort. Cet algorithme ne fait pas de comparaison entre les différents éléments de la liste.\n",
    "\n",
    "Utilisez la fonction `is_valid_solution` pour valider votre réponse sur quelques exemplaires aléatoires."
   ]
  },
  {
   "cell_type": "code",
   "execution_count": 155,
   "metadata": {},
   "outputs": [],
   "source": [
    "def count_sort(original: list[int]) -> list[int]:\n",
    "    # TODO\n",
    "    return original"
   ]
  },
  {
   "cell_type": "markdown",
   "metadata": {},
   "source": [
    "<u>**Question 1.b):**</u> Quelle est la complexité asymptotique théorique de cet algorithme? Expliquez"
   ]
  },
  {
   "cell_type": "markdown",
   "metadata": {},
   "source": [
    "<u>**Question 1.c):**</u> Quel sera l'effet de cette complexité comparativement aux algorithmes précédents."
   ]
  },
  {
   "cell_type": "markdown",
   "metadata": {},
   "source": [
    "### Mesures"
   ]
  },
  {
   "cell_type": "markdown",
   "metadata": {},
   "source": [
    "<u>**Question 1.d):**</u> Faites afficher vos mesures dans un tableau avec la fonction `display_data_as_table`. Étant donné les particularités de cet algorithme, il serait plus pertinent de tester des problèmes où max number ≤ size."
   ]
  },
  {
   "cell_type": "code",
   "execution_count": 156,
   "metadata": {},
   "outputs": [],
   "source": [
    "# TODO take measurements"
   ]
  },
  {
   "cell_type": "code",
   "execution_count": 157,
   "metadata": {},
   "outputs": [],
   "source": [
    "# TODO Display data as tables"
   ]
  },
  {
   "cell_type": "markdown",
   "metadata": {},
   "source": [
    "### Analyse Hybride"
   ]
  },
  {
   "cell_type": "markdown",
   "metadata": {},
   "source": [
    "#### Test de puissance"
   ]
  },
  {
   "cell_type": "markdown",
   "metadata": {},
   "source": [
    "<u>**Question 2.a):**</u> Effectuez le test de puissance de votre algorithme."
   ]
  },
  {
   "cell_type": "code",
   "execution_count": 158,
   "metadata": {},
   "outputs": [],
   "source": [
    "# TODO Test de puissance"
   ]
  },
  {
   "cell_type": "markdown",
   "metadata": {},
   "source": [
    "<u>**Question 2.b):**</u> Analysez le graphe obtenu pour le test de puissance."
   ]
  },
  {
   "cell_type": "markdown",
   "metadata": {},
   "source": [
    "#### Test de rapport"
   ]
  },
  {
   "cell_type": "markdown",
   "metadata": {},
   "source": [
    "<u>**Question 3.a):**</u> Effectuez le test de rapport de votre algorithme."
   ]
  },
  {
   "cell_type": "code",
   "execution_count": 159,
   "metadata": {},
   "outputs": [],
   "source": [
    "# TODO Test de rapport"
   ]
  },
  {
   "cell_type": "markdown",
   "metadata": {},
   "source": [
    "<u>**Question 3.b):**</u> Analysez le graphe obtenu pour le test de rapport."
   ]
  },
  {
   "cell_type": "markdown",
   "metadata": {},
   "source": [
    "#### Test des constantes"
   ]
  },
  {
   "cell_type": "markdown",
   "metadata": {},
   "source": [
    "<u>**Question 4.a):**</u> Effectuez le test des constantes de votre algorithme."
   ]
  },
  {
   "cell_type": "code",
   "execution_count": 160,
   "metadata": {},
   "outputs": [],
   "source": [
    "# TODO Test des constantes"
   ]
  },
  {
   "cell_type": "markdown",
   "metadata": {},
   "source": [
    "<u>**Question 4.b):**</u> Analysez le graphe obtenu pour le test des constantes."
   ]
  },
  {
   "cell_type": "markdown",
   "metadata": {},
   "source": [
    "# Conclusion (3 pts)\n",
    "\n",
    "Résumez *brièvement* vos découvertes et analyses, et indiquez dans quelles circonstances vous utiliserez chacun de ces algorithmes."
   ]
  },
  {
   "cell_type": "markdown",
   "metadata": {},
   "source": [
    " ## Autres critères (2 pts)\n",
    " Qualité du code / 1 pt\n",
    "\n",
    "Présentation générale / 1 pt\n",
    "\n",
    "- Concision\n",
    "- Qualité du français\n",
    "\n",
    "Pénalité retard\n",
    "- -1 pt / journée de retard, arrondi vers le haut. Les TPs ne sont plus acceptés après 3 jours."
   ]
  }
 ],
 "metadata": {
  "kernelspec": {
   "display_name": "Python 3",
   "language": "python",
   "name": "python3"
  },
  "language_info": {
   "codemirror_mode": {
    "name": "ipython",
    "version": 3
   },
   "file_extension": ".py",
   "mimetype": "text/x-python",
   "name": "python",
   "nbconvert_exporter": "python",
   "pygments_lexer": "ipython3",
   "version": "3.9.13"
  }
 },
 "nbformat": 4,
 "nbformat_minor": 4
}
